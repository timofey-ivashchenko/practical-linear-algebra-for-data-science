{
 "cells": [
  {
   "cell_type": "code",
   "execution_count": null,
   "id": "0e245cef-29e8-4c1e-8349-85443ea9f9ae",
   "metadata": {
    "scrolled": true
   },
   "outputs": [],
   "source": [
    "import matplotlib.pyplot as plt\n",
    "import matplotlib_inline.backend_inline as bil\n",
    "import numpy as np\n",
    "\n",
    "bil.set_matplotlib_formats('svg')\n",
    "plt.rcParams.update({'font.size': 9})\n"
   ]
  },
  {
   "cell_type": "markdown",
   "id": "030c6939-45d3-45e9-b165-3f98b616f543",
   "metadata": {},
   "source": [
    "# Глава 2. Векторы. Часть 1"
   ]
  },
  {
   "cell_type": "markdown",
   "id": "b37ba8a5-a793-423f-a83b-201af0fcdacf",
   "metadata": {},
   "source": [
    "## Создание и визуализация векторов\n",
    "\n",
    "В линейной алгебре *вектор* – это упорядоченный список чисел, который помещается в столбец либо строку (*ориентация*). Число элементов в векторе называется его *размерностью*, и в геометрическом пространстве вектор можно представить в виде отрезка с числом осей, равным размерности. В абстрактной линейной алгебре векторы могут содержать другие математические объекты, включая функции.\n",
    "\n",
    "*Dimensionality* – математическая размерность, протяжённость, объёмность.\n",
    "\n",
    "*Dimension* – геометрическое измерение, мерность.\n",
    "\n",
    "Обозначение вектора: $\\mathbf{v}$ или $\\mathit{v}$ или $\\vec{v}$.\n",
    "\n",
    "По умолчанию подразумевается, что вектор ориентирован вдоль столбца, если не указано обратное. Векторы-строки записываются в виде $\\mathbf{v}^\\mathbf{T}$. Надстрочная буква $^\\mathrm{T}$ указывает на *операцию транспонирования* – конвертацию вектора-столбца в вектор-строку.\n",
    "\n",
    "<img src=\"Рисунок 2.1.png\" height=500>\n",
    "\n",
    "Четыре способа создания вектора:"
   ]
  },
  {
   "cell_type": "code",
   "execution_count": null,
   "id": "72cb8b4e-d180-4a45-a1f5-fe488c8f0c96",
   "metadata": {},
   "outputs": [],
   "source": [
    "# 1: Список Python.\n",
    "list_ = [1, 2, 3]\n",
    "# 2: Неориентированный массив, одномерный список чисел в NumPy.\n",
    "array = np.array([1, 2, 3])\n",
    "# 3: Трёхмерный вектор-строка в виде двумерного массива NumPy 1×3.\n",
    "row_vector = np.array([[1, 2, 3]])\n",
    "# 4: Трёхмерный вектор-столбец в виде двумерного массива NumPy 3×1.\n",
    "column_vector = np.array([[1], [2], [3]])\n",
    "\n",
    "# Инспектируем форму массивов.\n",
    "print('np.shape(list_):    ', np.shape(list_))\n",
    "print('array.shape:        ', array.shape)\n",
    "print('row_vector.shape:   ', row_vector.shape)\n",
    "print('column_vector.shape:', column_vector.shape)\n"
   ]
  },
  {
   "cell_type": "markdown",
   "id": "77317907",
   "metadata": {},
   "source": [
    "### Вектор нулей\n",
    "\n",
    "Вектор, состоящий из одних нулей, также именуемый *вектором нулей*, или *нуль-вектором*, обозначается жирным шрифтом, **0**, и в линейной алгебре является специальным вектором. Нередко использование вектора нулей для решения задачи фактически принято называть *тривиальным решением* и исключать. Линейная алгебра полна утверждений типа «найти ненулевой вектор, который может решить ...» или «нвйти нетривиальное решение для ...»."
   ]
  },
  {
   "cell_type": "markdown",
   "id": "65480110-e62e-4c9f-89d9-d9f8771c5ce2",
   "metadata": {},
   "source": [
    "## Операции на векторах\n",
    "\n",
    "### Сложение и вычитание векторов\n",
    "\n",
    "Два вектора можно сложить или вычесть, только если они имеют одинаковую размерность и одинаковую ориентацию.\n",
    "\n",
    "Сложение векторов:\n",
    "\n",
    "$\\begin{bmatrix}a\\\\b\\\\c\\end{bmatrix}+\\begin{bmatrix}d\\\\e\\\\f\\end{bmatrix}=\\begin{bmatrix}a+d\\\\b+e\\\\c+f\\end{bmatrix}$\n",
    "\n",
    "Вычитание векторов:\n",
    "\n",
    "$\\begin{bmatrix}a\\\\b\\\\c\\end{bmatrix}-\\begin{bmatrix}d\\\\e\\\\f\\end{bmatrix}=\\begin{bmatrix}a-d\\\\b-e\\\\c-f\\end{bmatrix}$\n",
    "\n",
    "Геометрия сложения и вычитания векторов:\n",
    "\n",
    "<img src=\"Рисунок 2.2.png\" height=500>\n",
    "\n",
    "Пример:"
   ]
  },
  {
   "cell_type": "code",
   "execution_count": null,
   "id": "5e54b102-fd8c-4b2b-a418-500f146545f1",
   "metadata": {},
   "outputs": [],
   "source": [
    "v = np.array([4, 5, 6])\n",
    "w = np.array([10, 20, 30])\n",
    "\n",
    "print('v:    ', v)\n",
    "print('w:    ', w)\n",
    "print('v + w:', v + w)\n",
    "print('v - w:', v - w)\n"
   ]
  },
  {
   "cell_type": "markdown",
   "id": "55a58772-db4b-41de-aba7-8d7944e9685a",
   "metadata": {},
   "source": [
    "### Умножение вектора на скаляр\n",
    "\n",
    "Формула:\n",
    "\n",
    "$\\begin{bmatrix}a\\\\b\\\\c\\end{bmatrix}\\lambda=\\begin{bmatrix}a\\lambda\\\\b\\lambda\\\\c\\lambda\\end{bmatrix}$\n",
    "\n",
    "Геометрия умножения вектора на скаляр:\n",
    "\n",
    "<img src=\"Рисунок 2.3.png\" height=300>\n",
    "\n",
    "Скаляры масштабируют векторы, не меняя их направления. Направление вектора меняется, когда скаляр отрицательный (его угол поворачивается на 180°).\n",
    "\n",
    "*Одномерное пространство* – интерпретация векторов, в которой они указывают вдоль бесконечно длинной линии, проходящей через начало координат и уходящей в бесконечность в обоих направлениях.\n",
    "\n",
    "В этом смысле «повёрнутый» вектор по-прежнему указывает вдоль той же самой бесконечной линии, и, следовательно, отрицательный скаляр не меняет направления. Указанная интерпретация важна для пространств матриц, собственных векторов и сингулярных векторов.\n",
    "\n",
    "Пример:"
   ]
  },
  {
   "cell_type": "code",
   "execution_count": null,
   "id": "c0aada62-46da-497a-924a-7fa4716a2915",
   "metadata": {},
   "outputs": [],
   "source": [
    "s = 2\n",
    "v = np.array([3, 4, 5])\n",
    "\n",
    "print('s:    ', s)\n",
    "print('v:    ', v)\n",
    "print('s * v:', s * v)\n"
   ]
  },
  {
   "cell_type": "markdown",
   "id": "d70e5a1c",
   "metadata": {},
   "source": [
    "#### Усреднение векторов\n",
    "\n",
    "Умножение вектора на скаляр в сочетании со сложением векторов приводит непосредственно к *усреднению векторов*. Усреднение векторов – это то же самое, что усреднение чисел: просуммировать и поделить на количество чисел. Таким образом, для того чтобы усреднить два вектора, надо их сложить, а затем скалярно умножить на .5. В общем случае, для того чтобы усреднить *N* векторов, надо их просуммировать и скалярно умножить результат на *1/N*.\n",
    "\n",
    "Пример:"
   ]
  },
  {
   "cell_type": "code",
   "execution_count": null,
   "id": "fe7b9a26",
   "metadata": {},
   "outputs": [],
   "source": [
    "a = np.array([1, 2, 3])\n",
    "b = np.array([4, 5, 5])\n",
    "c = np.array([7, 8, 9])\n",
    "\n",
    "print('a:              ', a)\n",
    "print('b:              ', b)\n",
    "print('c:              ', c)\n",
    "print('(a + b + c) / 3:', (a + b + c) / 3)\n"
   ]
  },
  {
   "cell_type": "markdown",
   "id": "7671b661-bcb5-4711-bcc0-7dc7715e958d",
   "metadata": {},
   "source": [
    "### Сложение скаляра с вектором\n",
    "\n",
    "**Сложение скаляра с вектором формально в линейной алгебре не определено: это два отдельных вида математических объектов, которые невозможно объединить.** Однако NumPy позволяет складывать скаляры с векторами, и указанная операция сравнима с умножением скаляра на вектор: скаляр прибавляется к каждому элементу вектора.\n",
    "\n",
    "Формула:\n",
    "\n",
    "$\\begin{bmatrix}a\\\\b\\\\c\\end{bmatrix}+\\lambda=\\begin{bmatrix}a+\\lambda\\\\b+\\lambda\\\\c+\\lambda\\end{bmatrix}$\n",
    "\n",
    "Пример:"
   ]
  },
  {
   "cell_type": "code",
   "execution_count": null,
   "id": "2dc34965-717f-4f2b-a2ae-fa34b89bf9c1",
   "metadata": {},
   "outputs": [],
   "source": [
    "s = 2\n",
    "v = np.array([3, 6])\n",
    "\n",
    "print('s:    ', s)\n",
    "print('v:    ', v)\n",
    "print('s + v:', s + v)\n"
   ]
  },
  {
   "attachments": {},
   "cell_type": "markdown",
   "id": "fa8e8931-2ebc-48b3-afc7-36e3b9819679",
   "metadata": {},
   "source": [
    "### Транспонирование\n",
    "\n",
    "Операция транспонирования:\n",
    "\n",
    "$\\mathbf{m}^\\mathrm{T}_{i,j}=\\mathbf{m}_{j,i}$\n",
    "\n",
    "Двойное транспонирование возвращает вектор в изначальную ориентацию:\n",
    "\n",
    "$\\mathbf{v}^\\mathrm{TT}=\\mathbf{v}$\n",
    "\n",
    "Пример:"
   ]
  },
  {
   "cell_type": "code",
   "execution_count": null,
   "id": "b026e686-3c3e-4588-83f8-47ddb36b869e",
   "metadata": {},
   "outputs": [],
   "source": [
    "v = np.array([[1, 2, 3], [4, 5, 6], [7, 8, 9]])\n",
    "\n",
    "print('v:')\n",
    "print(v)\n",
    "print('v.T:')\n",
    "print(v.T)\n",
    "print('v.T.T:')\n",
    "print(v.T.T)\n"
   ]
  },
  {
   "cell_type": "markdown",
   "id": "41d00012-aaa5-470a-89b6-77b1211e2a3a",
   "metadata": {},
   "source": [
    "### Транслирование\n",
    "\n",
    "*Транслирование*, по существу, означает многократное повторение операции между одним вектором и каждым элементом другого вектора.\n",
    "\n",
    "Определение из документации NumPy: термин «транслирование» (*broadcasting*) относится к тому, как NumPy обрабатывает массивы с разным размером во время арифметических операций. С учётом определённых ограничений меньший массив «заполняется» по большему массиву, чтобы они имели совместимые очертания.\n",
    "\n",
    "Транслирование – это операция, которая существует только в современной компьютерной линейной алгебре.\n",
    "\n",
    "Транслирование – это общая операция программирования, которая используется для расширения векторов в арифметических операциях.\n",
    "\n",
    "**Для транслирования необходимо, чтобы слагаемые векторы были разноориентированы, при этом не требуется, чтобы их размерности были равны:**"
   ]
  },
  {
   "cell_type": "code",
   "execution_count": null,
   "id": "7907b1f4",
   "metadata": {},
   "outputs": [],
   "source": [
    "# Векторы a и b имеют различные размерность и ориентацию.\n",
    "a = np.array([[0, 1, 2, 3]])\n",
    "b = np.array([[4, 5, 6, 7, 8, 9]]).T\n",
    "\n",
    "print('a:')\n",
    "print(a)\n",
    "print('b:')\n",
    "print(b)\n",
    "print('a + b:')\n",
    "print(a + b)\n"
   ]
  },
  {
   "cell_type": "markdown",
   "id": "679e3503",
   "metadata": {},
   "source": [
    "#### Сложение при помощи транслирования\n",
    "\n",
    "$\\begin{bmatrix}1&1\\end{bmatrix}+\\begin{bmatrix}10&20\\end{bmatrix};$\n",
    "\n",
    "$\\begin{bmatrix}2&2\\end{bmatrix}+\\begin{bmatrix}10&20\\end{bmatrix};$\n",
    "\n",
    "$\\begin{bmatrix}3&3\\end{bmatrix}+\\begin{bmatrix}10&20\\end{bmatrix}.$"
   ]
  },
  {
   "cell_type": "code",
   "execution_count": null,
   "id": "098c9b0b-968e-4a3b-9b6e-1f4d6c3a7dcb",
   "metadata": {},
   "outputs": [],
   "source": [
    "v = np.array([[1, 2, 3]]).T\n",
    "w = np.array([[10, 20]])\n",
    "\n",
    "print('v:')\n",
    "print(v)\n",
    "print('w:')\n",
    "print(w)\n",
    "print('v + w:')\n",
    "print(v + w)\n",
    "print()\n",
    "print('v.T:')\n",
    "print(v.T)\n",
    "print('w.T:')\n",
    "print(w.T)\n",
    "print('v.T + w.T:')\n",
    "print(v.T + w.T)\n"
   ]
  },
  {
   "cell_type": "markdown",
   "id": "36ff3538-8261-4655-a6a8-158f2c4a8d74",
   "metadata": {},
   "source": [
    "## Модуль вектора\n",
    "\n",
    "Формула:\n",
    "\n",
    "$\\displaystyle\\|\\mathbf{v}\\|=\\sqrt{\\sum_{i=1}^n{\\nu_i^2}}$\n",
    "\n",
    "Пример:"
   ]
  },
  {
   "cell_type": "code",
   "execution_count": null,
   "id": "a263b40c-11d0-4fdd-a49b-9b7bc91140c3",
   "metadata": {},
   "outputs": [],
   "source": [
    "v = np.array([1, 2, 3, 7, 8, 9])\n",
    "\n",
    "# Математическая размерность, количество чисел в векторе (dimensionality).\n",
    "v_dim = len(v)\n",
    "\n",
    "# Модуль, абсолютная величина, геометрическая длина, норма (magnitude).\n",
    "v_mag = np.linalg.norm(v)\n",
    "\n",
    "print('v:    ', v)\n",
    "print('v_dim:', v_dim)\n",
    "print('v_mag:', v_mag)\n"
   ]
  },
  {
   "cell_type": "markdown",
   "id": "94037f66-c696-4a70-98da-128aff05aa1d",
   "metadata": {},
   "source": [
    "## Единичный вектор\n",
    "\n",
    "Формула:\n",
    "\n",
    "$\\displaystyle\\hat{\\mathbf{v}}=\\frac{1}{\\|\\mathbf{v}\\|}\\mathbf{v}$\n",
    "\n",
    "Пример:"
   ]
  },
  {
   "cell_type": "code",
   "execution_count": null,
   "id": "3fb04ffd-4c96-4dd1-a75d-df3b5c5ddcc0",
   "metadata": {},
   "outputs": [],
   "source": [
    "v = np.array([[1, 2, 3, 7, 8, 9]]).T\n",
    "v_mag = np.linalg.norm(v)\n",
    "v_1 = v / v_mag\n",
    "v_1_mag = np.linalg.norm(v_1)\n",
    "\n",
    "print('v:')\n",
    "print(v)\n",
    "print('v_mag:')\n",
    "print(v_mag)\n",
    "print('v_1:')\n",
    "print(v_1)\n",
    "print('v_1_mag:')\n",
    "print(v_1_mag)\n"
   ]
  },
  {
   "cell_type": "markdown",
   "id": "6f9cdae3-1848-4340-9950-bb5dc0527872",
   "metadata": {},
   "source": [
    "## Точечное (внутреннее) произведение векторов\n",
    "\n",
    "Способы указания точечного произведения между двумя векторами:\n",
    "\n",
    "$\\mathbf{a}^\\mathrm{T}\\mathbf{b}$ или\n",
    "$\\mathbf{a}\\cdot\\mathbf{b}$ или\n",
    "$\\langle\\mathbf{a},\\mathbf{b}\\rangle$\n",
    "\n",
    "Формула точечного произведения:\n",
    "\n",
    "$\\displaystyle\\delta=\\sum_{i=1}^n{\\mathbf{a}_i\\mathbf{b}_i}$\n",
    "\n",
    "Пример вычисления точечного произведения:\n",
    "\n",
    "$\\begin{bmatrix}a\\\\b\\\\c\\end{bmatrix}\\cdot\\begin{bmatrix}d\\\\e\\\\f\\end{bmatrix}=ad+be+cf$"
   ]
  },
  {
   "cell_type": "code",
   "execution_count": null,
   "id": "96463eea-8f29-4e61-a947-ab8b2d8a30ae",
   "metadata": {},
   "outputs": [],
   "source": [
    "a = np.array([1, 2, 3, 4])\n",
    "b = np.array([5, 6, 7, 8])\n",
    "\n",
    "print('a:    ', a)\n",
    "print('b:    ', b)\n",
    "print('a · b:', np.dot(a, b))\n"
   ]
  },
  {
   "cell_type": "markdown",
   "id": "e6ff4949-c0e4-4f5e-8ee9-e4b44a58f0eb",
   "metadata": {},
   "source": [
    "Умножение одного вектора на скаляр масштабирует точечное произведение на то же число:"
   ]
  },
  {
   "cell_type": "code",
   "execution_count": null,
   "id": "94b00439-222d-46e7-abd5-73b0a1fbd71e",
   "metadata": {},
   "outputs": [],
   "source": [
    "v = np.array([1, 2, 3])\n",
    "w = np.array([4, 5, 6])\n",
    "s = 10\n",
    "\n",
    "print('v:          ', v)\n",
    "print('w:          ', w)\n",
    "print('s:          ', s)\n",
    "print('v · w:      ', np.dot(v, w))\n",
    "print('(s * v) · w:', np.dot(s * v, w))\n"
   ]
  },
  {
   "cell_type": "markdown",
   "id": "7d270d6d-28e8-4d03-9e09-4aa2b5322637",
   "metadata": {},
   "source": [
    "### Точечное произведение является дистрибутивным\n",
    "\n",
    "Дистрибутивное свойство математики (распределительный закон):\n",
    "\n",
    "$a(b+c)=ab+ac$\n",
    "\n",
    "В переложении на векторы и точечное произведение векторов:\n",
    "\n",
    "$\\mathbf{a}^\\mathrm{T}(\\mathbf{b}+\\mathbf{c})=\\mathbf{a}^\\mathrm{T}\\mathbf{b}+\\mathbf{a}^\\mathrm{T}\\mathbf{c}$"
   ]
  },
  {
   "cell_type": "code",
   "execution_count": null,
   "id": "54daa867-7731-4678-8273-6d956738fb8b",
   "metadata": {},
   "outputs": [],
   "source": [
    "a = np.array([0, 1, 2])\n",
    "b = np.array([3, 5, 8])\n",
    "c = np.array([13, 21, 34])\n",
    "\n",
    "# Точечное произведение дистрибутивно.\n",
    "print('a · (b + c):  ', np.dot(a, b + c))\n",
    "print('a · b + a · c:', np.dot(a, b) + np.dot(a, c))\n"
   ]
  },
  {
   "cell_type": "markdown",
   "id": "67ed2c75-1f90-423f-8feb-00e8136ed246",
   "metadata": {},
   "source": [
    "### Геометрия точечного произведения\n",
    "\n",
    "Геометрическое определение точечного произведения векторов:\n",
    "\n",
    "$\\alpha=\\cos(\\theta_{\\mathbf{v},\\mathbf{w}})\\|\\mathbf{v}\\|\\|\\mathbf{w}\\|$"
   ]
  },
  {
   "cell_type": "markdown",
   "id": "640643ea-f027-4542-8718-b0482ecebaf6",
   "metadata": {},
   "source": [
    "## Другие умножения векторов"
   ]
  },
  {
   "cell_type": "markdown",
   "id": "85f1b138",
   "metadata": {},
   "source": [
    "### Адамарово умножение\n",
    "\n",
    "Формула:\n",
    "\n",
    "$\\begin{bmatrix}a\\\\b\\\\c\\end{bmatrix}\\odot\\begin{bmatrix}d\\\\e\\\\f\\end{bmatrix}=\\begin{bmatrix}ad\\\\be\\\\cf\\end{bmatrix}$\n",
    "\n",
    "Пример:"
   ]
  },
  {
   "cell_type": "code",
   "execution_count": null,
   "id": "03b286b5-75cf-44f3-8149-a2d367a9384e",
   "metadata": {},
   "outputs": [],
   "source": [
    "a = np.array([1, 2, 3, 4, 5])\n",
    "b = np.array([6, 7, 8, 9, 10])\n",
    "\n",
    "print('a:    ', a)\n",
    "print('b:    ', b)\n",
    "print('a * b:', a * b)\n"
   ]
  },
  {
   "cell_type": "markdown",
   "id": "a7cc4c25-018d-4fba-bd8b-15cba707e404",
   "metadata": {},
   "source": [
    "### Внешнее произведение\n",
    "\n",
    "Внешнее произведение обозначается как $\\mathbf{v}\\mathbf{w}^\\mathrm{T}$.\n",
    "\n",
    "Формула внешнего произведения:\n",
    "\n",
    "$\\begin{bmatrix}a\\\\b\\\\c\\end{bmatrix}\\begin{bmatrix}d&e\\end{bmatrix}=\\begin{bmatrix}ad&ae\\\\bd&be\\\\cd&ce\\end{bmatrix}$\n",
    "\n",
    "Вычисление внешнего произведения с помощью функции `np.outer`:"
   ]
  },
  {
   "cell_type": "code",
   "execution_count": null,
   "id": "5673a928-638b-495a-8dec-3a3dde4267dd",
   "metadata": {},
   "outputs": [],
   "source": [
    "a = np.array([1, 2, 3])\n",
    "b = np.array([4, 5])\n",
    "\n",
    "print('a:')\n",
    "print(a)\n",
    "print('b:')\n",
    "print(b)\n",
    "print('np.outer(a, b):')\n",
    "print(np.outer(a, b))\n"
   ]
  },
  {
   "cell_type": "markdown",
   "id": "0a13e4fc-3904-495c-8475-d2e499bbc5ff",
   "metadata": {},
   "source": [
    "Вычисление внешнего произведения с помощью функции `np.dot`, при условии что два входных вектора ориентированы соответственно вдоль столбца и строки:"
   ]
  },
  {
   "cell_type": "code",
   "execution_count": null,
   "id": "e0800948-c9f8-4322-8f22-2514e6eb042b",
   "metadata": {},
   "outputs": [],
   "source": [
    "a = np.array([[1, 2, 3]]).T\n",
    "b = np.array([[4, 5]])\n",
    "\n",
    "print('a:')\n",
    "print(a)\n",
    "print('b:')\n",
    "print(b)\n",
    "print('np.dot(a, b):')\n",
    "print(np.dot(a, b))\n"
   ]
  },
  {
   "cell_type": "markdown",
   "id": "2367983e-bf21-49e2-af96-98128f123731",
   "metadata": {},
   "source": [
    "### Перекрёстное и тройное произведения\n",
    "\n",
    "Эти методы используются в геометрии и физике."
   ]
  },
  {
   "cell_type": "markdown",
   "id": "edc9f81d",
   "metadata": {},
   "source": [
    "## Ортогональное разложение векторов\n",
    "\n",
    "### Решение задачи ортогональной проекции\n",
    "\n",
    "<img src=\"Рисунок 2.6.png\" width=500>\n",
    "\n",
    "Точечное произведение перпендикулярных векторов равно нулю:\n",
    "\n",
    "$\\mathbf{a}^\\mathrm{T}(\\mathbf{b}-\\beta\\mathbf{a})=0;$\n",
    "\n",
    "Формула проецирования точки на отрезок с минимальным расстоянием:\n",
    "\n",
    "$\\mathbf{a}^\\mathrm{T}\\mathbf{b}-\\beta\\mathbf{a}^\\mathrm{T}\\mathbf{a}=0;$\n",
    "\n",
    "$\\beta\\mathbf{a}^\\mathrm{T}\\mathbf{a}=\\mathbf{a}^\\mathrm{T}\\mathbf{b};$\n",
    "\n",
    "$\\displaystyle\\beta=\\frac{\\mathbf{a}^\\mathrm{T}\\mathbf{b}}{\\mathbf{a}^\\mathrm{T}\\mathbf{a}}.$\n",
    "\n",
    "### Постановка и цель анализа\n",
    "\n",
    "Даны два вектора: *целевой* (*target vector*) и *опорный* (*reference vector*). Цель состоит в том, чтобы разложить целевой вектор на два других вектора таким образом, чтобы:\n",
    "\n",
    "1. эти два вектора в сумме составляли целевой вектор и\n",
    "2. один вектор был ортогонален опорному вектору, в то время как другой был параллелен опорному вектору.\n",
    "\n",
    "<img src=\"Рисунок 2.7.png\" width=500>\n",
    "\n",
    "где:\n",
    "* $\\mathbf{t}$ – целевой вектор;\n",
    "* $\\mathbf{r}$ – опорный вектор;\n",
    "* $\\mathbf{t}_{\\parallel\\mathbf{r}}$ – параллельная компонента;\n",
    "* $\\mathbf{t}_{\\perp\\mathbf{r}}$ – перпендикулярная компонента.\n",
    "\n",
    "Вычисление параллельной компоненты:\n",
    "\n",
    "$\\displaystyle\\mathbf{t}_{\\parallel\\mathbf{r}}=\\mathbf{r}\\frac{\\mathbf{r}^\\mathrm{T}\\mathbf{t}}{\\mathbf{r}^\\mathrm{T}\\mathbf{r}}.$\n",
    "\n",
    "Вычисление перпендикулярной компоненты:\n",
    "\n",
    "$\\mathbf{t}=\\mathbf{t}_{\\parallel\\mathbf{r}}+\\mathbf{t}_{\\perp\\mathbf{r}};$\n",
    "\n",
    "$\\mathbf{t}_{\\perp\\mathbf{r}}=\\mathbf{t}-\\mathbf{t}_{\\parallel\\mathbf{r}}.$\n",
    "\n",
    "Проверка перпендикулярной компоненты:\n",
    "\n",
    "$(\\mathbf{t}_{\\perp\\mathbf{r}})^\\mathrm{T}\\mathbf{r}=0;$\n",
    "\n",
    "$\\displaystyle(\\mathbf{t}-\\mathbf{r}\\frac{\\mathbf{r}^\\mathrm{T}\\mathbf{t}}{\\mathbf{r}^\\mathrm{T}\\mathbf{r}})^\\mathrm{T}\\mathbf{r}=0.$"
   ]
  }
 ],
 "metadata": {
  "kernelspec": {
   "display_name": "Python 3 (ipykernel)",
   "language": "python",
   "name": "python3"
  },
  "language_info": {
   "codemirror_mode": {
    "name": "ipython",
    "version": 3
   },
   "file_extension": ".py",
   "mimetype": "text/x-python",
   "name": "python",
   "nbconvert_exporter": "python",
   "pygments_lexer": "ipython3",
   "version": "3.12.0"
  }
 },
 "nbformat": 4,
 "nbformat_minor": 5
}
