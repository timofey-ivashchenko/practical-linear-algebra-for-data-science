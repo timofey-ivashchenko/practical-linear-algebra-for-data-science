{
 "cells": [
  {
   "cell_type": "markdown",
   "metadata": {},
   "source": [
    "# Упражнения по программированию главы 2"
   ]
  },
  {
   "cell_type": "code",
   "execution_count": null,
   "metadata": {},
   "outputs": [],
   "source": [
    "import matplotlib.pyplot as plt\n",
    "import matplotlib_inline.backend_inline as bil\n",
    "import numpy as np\n",
    "\n",
    "bil.set_matplotlib_formats('svg')\n"
   ]
  },
  {
   "cell_type": "markdown",
   "metadata": {},
   "source": [
    "## Упражнение 2.1"
   ]
  },
  {
   "cell_type": "code",
   "execution_count": null,
   "metadata": {},
   "outputs": [],
   "source": [
    "def arrow(plot, vector, position, color):\n",
    "    return plot.arrow(\n",
    "        x=position[0],\n",
    "        y=position[1],\n",
    "        dx=vector[0],\n",
    "        dy=vector[1],\n",
    "        width=.1,\n",
    "        head_width=.3,\n",
    "        head_length=.5,\n",
    "        length_includes_head=True,\n",
    "        color=color)\n",
    "\n",
    "\n",
    "def plot(plot, vectors, positions, title, legend_lebels):\n",
    "    plot.set_title(title, fontsize=10)\n",
    "    plot.grid(linestyle='--', color='lightgray')\n",
    "    plot.axis('square')\n",
    "    plot.axis((-6, 6, -6, 6))\n",
    "    plot.xaxis.set_tick_params(labelsize=6)\n",
    "    plot.yaxis.set_tick_params(labelsize=6)\n",
    "    arrow_1 = arrow(plot, vectors[0], positions[0], '#333333')\n",
    "    arrow_2 = arrow(plot, vectors[1], positions[1], '#6cd4c5')\n",
    "    arrow_3 = arrow(plot, vectors[2], positions[2], '#e27c7c')\n",
    "    plot.legend(\n",
    "        handles=(arrow_1, arrow_2, arrow_3),\n",
    "        labels=(legend_lebels),\n",
    "        fontsize=10)\n",
    "\n",
    "\n",
    "v = np.array([1, 2])\n",
    "w = np.array([4, -6])\n",
    "v_plus_w = v + w\n",
    "v_minus_w = v - w\n",
    "\n",
    "_, (plot_1, plot_2) = plt.subplots(nrows=1, ncols=2, figsize=(10, 10))\n",
    "\n",
    "plot(\n",
    "    plot_1,\n",
    "    vectors=(v, w, v_plus_w),\n",
    "    positions=((0, 0), (v[0], v[1]), (0, 0)),\n",
    "    title='Векторы $\\\\mathbf{v}$, $\\\\mathbf{w}$ и $\\\\mathbf{v}+\\\\mathbf{w}$',\n",
    "    legend_lebels=('v', 'w', 'v + w'))\n",
    "plot(\n",
    "    plot_2,\n",
    "    vectors=(v, w, v_minus_w),\n",
    "    positions=((0, 0), (0, 0), (w[0], w[1])),\n",
    "    title='Векторы $\\\\mathbf{v}$, $\\\\mathbf{w}$ и $\\\\mathbf{v}-\\\\mathbf{w}$',\n",
    "    legend_lebels=('v', 'w', 'v - w'))\n",
    "\n",
    "plt.show()\n"
   ]
  },
  {
   "cell_type": "markdown",
   "metadata": {},
   "source": [
    "## Упражнение 2.2"
   ]
  },
  {
   "cell_type": "code",
   "execution_count": null,
   "metadata": {},
   "outputs": [],
   "source": [
    "from math import sqrt\n",
    "from random import choice, randint\n",
    "\n",
    "\n",
    "def norm_of_vector(vector):\n",
    "    return sqrt(sum(element ** 2 for element in np.nditer(vector)))\n",
    "\n",
    "\n",
    "def random_vector():\n",
    "    v = np.array([[randint(-100, 100) for _ in range(0, randint(1, 10))]])\n",
    "    return v if choice((0, 1)) else v.T\n",
    "\n",
    "\n",
    "v = random_vector()\n",
    "norm_1 = np.linalg.norm(v)\n",
    "norm_2 = norm_of_vector(v)\n",
    "\n",
    "assert norm_1 == norm_2\n",
    "\n",
    "print(v)\n",
    "print('np.linalg.norm:', norm_1)\n",
    "print('norm_of_vector:', norm_2)\n"
   ]
  },
  {
   "cell_type": "markdown",
   "metadata": {},
   "source": [
    "## Упражнение 2.3"
   ]
  },
  {
   "cell_type": "code",
   "execution_count": null,
   "metadata": {},
   "outputs": [],
   "source": [
    "import warnings\n",
    "\n",
    "\n",
    "def unit_vector(vector):\n",
    "    return vector / np.linalg.norm(vector)\n",
    "\n",
    "\n",
    "# Тестируем на векторе нулей.\n",
    "with warnings.catch_warnings(record=True) as warnings:\n",
    "    a = np.array([0, 0, 0])\n",
    "    a_hat = unit_vector(a)\n",
    "    assert len(warnings) == 1\n",
    "    warning = warnings[0]\n",
    "    assert issubclass(warning.category, RuntimeWarning)\n",
    "    assert str(warning.message) == 'invalid value encountered in divide'\n",
    "\n",
    "# Тестируем на единичном векторе.\n",
    "b = np.array([1, 0, 0])\n",
    "b_hat = unit_vector(b)\n",
    "assert np.linalg.norm(b_hat) == 1\n",
    "np.testing.assert_array_equal(b, b_hat)\n",
    "print('b:    ', b)\n",
    "print('b_hat:', b_hat)\n",
    "print()\n",
    "\n",
    "# Тестируем на неединичном векторе.\n",
    "c = np.array([0, 0, 9])\n",
    "c_hat = unit_vector(c)\n",
    "assert np.linalg.norm(c_hat) == 1\n",
    "print('c:    ', c)\n",
    "print('c_hat:', c_hat)\n"
   ]
  },
  {
   "cell_type": "markdown",
   "metadata": {},
   "source": [
    "## Упражнение 2.4"
   ]
  },
  {
   "cell_type": "code",
   "execution_count": null,
   "metadata": {},
   "outputs": [],
   "source": [
    "def magnitude_vector(vector, magnitude):\n",
    "    return vector * magnitude / np.linalg.norm(vector)\n",
    "\n",
    "\n",
    "x = np.array([1, 2, 3, 4, 5])\n",
    "x_norm = np.linalg.norm(x)\n",
    "assert x_norm == 7.416198487095663\n",
    "\n",
    "# Масштабирование с уменьшением.\n",
    "y = magnitude_vector(x, 5)\n",
    "y_norm = np.linalg.norm(y)\n",
    "assert y_norm == 5\n",
    "\n",
    "# Масштабирование с увеличением.\n",
    "z = magnitude_vector(x, 10)\n",
    "z_norm = np.linalg.norm(z)\n",
    "assert z_norm == 10\n",
    "\n",
    "print('Вектор x:        ', x)\n",
    "print('Модуль вектора x:', x_norm)\n",
    "print()\n",
    "print('Вектор y:        ', y)\n",
    "print('Модуль вектора y:', y_norm)\n",
    "print()\n",
    "print('Вектор z:        ', z)\n",
    "print('Модуль вектора z:', z_norm)\n"
   ]
  }
 ],
 "metadata": {
  "kernelspec": {
   "display_name": "Python 3",
   "language": "python",
   "name": "python3"
  },
  "language_info": {
   "codemirror_mode": {
    "name": "ipython",
    "version": 3
   },
   "file_extension": ".py",
   "mimetype": "text/x-python",
   "name": "python",
   "nbconvert_exporter": "python",
   "pygments_lexer": "ipython3",
   "version": "3.11.5"
  },
  "orig_nbformat": 4
 },
 "nbformat": 4,
 "nbformat_minor": 2
}
