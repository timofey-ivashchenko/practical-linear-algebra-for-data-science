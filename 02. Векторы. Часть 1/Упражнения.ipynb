{
 "cells": [
  {
   "cell_type": "markdown",
   "metadata": {},
   "source": [
    "# Упражнения по программированию главы 2"
   ]
  },
  {
   "cell_type": "code",
   "execution_count": null,
   "metadata": {},
   "outputs": [],
   "source": [
    "import matplotlib.pyplot as plt\n",
    "import matplotlib_inline.backend_inline as bil\n",
    "import numpy as np\n",
    "\n",
    "bil.set_matplotlib_formats('svg')\n"
   ]
  },
  {
   "cell_type": "markdown",
   "metadata": {},
   "source": [
    "## Упражнение 2.1"
   ]
  },
  {
   "cell_type": "code",
   "execution_count": null,
   "metadata": {},
   "outputs": [],
   "source": [
    "def arrow(axes, vector, position, color):\n",
    "    return axes.arrow(\n",
    "        x=position[0],\n",
    "        y=position[1],\n",
    "        dx=vector[0],\n",
    "        dy=vector[1],\n",
    "        width=.1,\n",
    "        head_width=.3,\n",
    "        head_length=.5,\n",
    "        length_includes_head=True,\n",
    "        color=color)\n",
    "\n",
    "\n",
    "def plot(axes, vectors, positions, title, legend_labels):\n",
    "    axes.set_title(title, fontsize=10)\n",
    "    axes.grid(linestyle='--', color='lightgray')\n",
    "    axes.axis('square')\n",
    "    axes.axis((-6, 6, -6, 6))\n",
    "    axes.xaxis.set_tick_params(labelsize=6)\n",
    "    axes.yaxis.set_tick_params(labelsize=6)\n",
    "    arrow_1 = arrow(axes, vectors[0], positions[0], '#333333')\n",
    "    arrow_2 = arrow(axes, vectors[1], positions[1], '#6cd4c5')\n",
    "    arrow_3 = arrow(axes, vectors[2], positions[2], '#e27c7c')\n",
    "    axes.legend(\n",
    "        handles=(arrow_1, arrow_2, arrow_3),\n",
    "        labels=legend_labels,\n",
    "        fontsize=10)\n",
    "\n",
    "\n",
    "v = np.array([1, 2])\n",
    "w = np.array([4, -6])\n",
    "v_plus_w = v + w\n",
    "v_minus_w = v - w\n",
    "\n",
    "_, (plot_1, plot_2) = plt.subplots(nrows=1, ncols=2, figsize=(10, 10))\n",
    "\n",
    "plot(\n",
    "    plot_1,\n",
    "    vectors=(v, w, v_plus_w),\n",
    "    positions=((0, 0), (v[0], v[1]), (0, 0)),\n",
    "    title='Векторы $\\\\mathbf{v}$, $\\\\mathbf{w}$ и $\\\\mathbf{v}+\\\\mathbf{w}$',\n",
    "    legend_labels=('v', 'w', 'v + w'))\n",
    "plot(\n",
    "    plot_2,\n",
    "    vectors=(v, w, v_minus_w),\n",
    "    positions=((0, 0), (0, 0), (w[0], w[1])),\n",
    "    title='Векторы $\\\\mathbf{v}$, $\\\\mathbf{w}$ и $\\\\mathbf{v}-\\\\mathbf{w}$',\n",
    "    legend_labels=('v', 'w', 'v - w'))\n",
    "\n",
    "plt.show()\n"
   ]
  },
  {
   "cell_type": "markdown",
   "metadata": {},
   "source": [
    "## Упражнение 2.2"
   ]
  },
  {
   "cell_type": "code",
   "execution_count": null,
   "metadata": {},
   "outputs": [],
   "source": [
    "from math import sqrt\n",
    "from random import choice, randint\n",
    "\n",
    "\n",
    "def norm_of_vector(vector):\n",
    "    return sqrt(sum(element ** 2 for element in np.nditer(vector)))\n",
    "\n",
    "\n",
    "def random_vector():\n",
    "    vector = np.array([[randint(-100, 100) for _ in range(0, randint(1, 10))]])\n",
    "    return vector if choice((0, 1)) else vector.T\n",
    "\n",
    "\n",
    "v = random_vector()\n",
    "norm_1 = np.linalg.norm(v)\n",
    "norm_2 = norm_of_vector(v)\n",
    "\n",
    "assert norm_1 == norm_2\n",
    "\n",
    "print(v)\n",
    "print('np.linalg.norm:', norm_1)\n",
    "print('norm_of_vector:', norm_2)\n"
   ]
  },
  {
   "cell_type": "markdown",
   "metadata": {},
   "source": [
    "## Упражнение 2.3"
   ]
  },
  {
   "cell_type": "code",
   "execution_count": null,
   "metadata": {},
   "outputs": [],
   "source": [
    "import warnings\n",
    "\n",
    "\n",
    "def unit_vector(vector):\n",
    "    return vector / np.linalg.norm(vector)\n",
    "\n",
    "\n",
    "# Тестируем на векторе нулей.\n",
    "with warnings.catch_warnings(record=True) as warnings:\n",
    "    a = np.array([0, 0, 0])\n",
    "    a_hat = unit_vector(a)\n",
    "    assert len(warnings) == 1\n",
    "    warning = warnings[0]\n",
    "    assert issubclass(warning.category, RuntimeWarning)\n",
    "    assert str(warning.message) == 'invalid value encountered in divide'\n",
    "\n",
    "# Тестируем на единичном векторе.\n",
    "b = np.array([1, 0, 0])\n",
    "b_hat = unit_vector(b)\n",
    "assert np.linalg.norm(b_hat) == 1\n",
    "np.testing.assert_array_equal(b, b_hat)\n",
    "print('b:    ', b)\n",
    "print('b_hat:', b_hat)\n",
    "print()\n",
    "\n",
    "# Тестируем на неединичном векторе.\n",
    "c = np.array([0, 0, 9])\n",
    "c_hat = unit_vector(c)\n",
    "assert np.linalg.norm(c_hat) == 1\n",
    "print('c:    ', c)\n",
    "print('c_hat:', c_hat)\n"
   ]
  },
  {
   "cell_type": "markdown",
   "metadata": {},
   "source": [
    "## Упражнение 2.4"
   ]
  },
  {
   "cell_type": "code",
   "execution_count": null,
   "metadata": {},
   "outputs": [],
   "source": [
    "def magnitude_vector(vector, magnitude):\n",
    "    return vector * magnitude / np.linalg.norm(vector)\n",
    "\n",
    "\n",
    "x = np.array([1, 2, 3, 4, 5])\n",
    "x_norm = np.linalg.norm(x)\n",
    "assert x_norm == 7.416198487095663\n",
    "\n",
    "# Масштабирование с уменьшением.\n",
    "y = magnitude_vector(x, 5)\n",
    "y_norm = np.linalg.norm(y)\n",
    "assert y_norm == 5\n",
    "\n",
    "# Масштабирование с увеличением.\n",
    "z = magnitude_vector(x, 10)\n",
    "z_norm = np.linalg.norm(z)\n",
    "assert z_norm == 10\n",
    "\n",
    "print('Вектор x:        ', x)\n",
    "print('Модуль вектора x:', x_norm)\n",
    "print()\n",
    "print('Вектор y:        ', y)\n",
    "print('Модуль вектора y:', y_norm)\n",
    "print()\n",
    "print('Вектор z:        ', z)\n",
    "print('Модуль вектора z:', z_norm)\n"
   ]
  },
  {
   "cell_type": "markdown",
   "metadata": {},
   "source": [
    "## Упражнение 2.5"
   ]
  },
  {
   "cell_type": "code",
   "execution_count": null,
   "metadata": {},
   "outputs": [],
   "source": [
    "def transpose_vector(vector):\n",
    "    rows, cols = vector.shape\n",
    "    result = np.empty((cols, rows)).astype(vector.dtype)\n",
    "    for i in range(0, rows):\n",
    "        for j in range(0, cols):\n",
    "            result[j, i] = vector[i, j]\n",
    "    return result\n",
    "\n",
    "\n",
    "v = np.array([1, 3, 5, 7, 9, 0, 2, 4, 6, 8]).reshape(2, 5)\n",
    "vt = transpose_vector(v)\n",
    "vtt = transpose_vector(vt)\n",
    "\n",
    "print('Исходный вектор:')\n",
    "print(v)\n",
    "print('Транспонированный вектор:')\n",
    "print(vt)\n",
    "print('Повторное транспонирование:')\n",
    "print(vtt)\n"
   ]
  },
  {
   "cell_type": "markdown",
   "metadata": {},
   "source": [
    "## Упражнение 2.6\n",
    "\n",
    "Квадратная норма вектора равна точечному произведению вектора на себя:\n",
    "\n",
    "$\\displaystyle\\|\\mathbf{v}\\|=\\sqrt{\\sum_{i=1}^n{\\nu_i^2}}\\implies\\|\\mathbf{v}\\|^2=\\sum_{i=1}^n{\\nu_i^2}$"
   ]
  },
  {
   "cell_type": "code",
   "execution_count": null,
   "metadata": {},
   "outputs": [],
   "source": [
    "v = np.array([1, 2, 3, 4, 5])\n",
    "v_norm = np.linalg.norm(v)\n",
    "v_dot_v = np.dot(v, v)\n",
    "\n",
    "# Из-за погрешности при вычислениях эта проверка не всегда проходит.\n",
    "assert v_norm ** 2 == v_dot_v\n",
    "\n",
    "print('Вектор:', v)\n",
    "print('Норма вектора:', v_norm)\n",
    "print('Квадратная норма вектора:', v_norm ** 2)\n",
    "print('Точечное произведение вектора на себя:', v_dot_v)\n"
   ]
  },
  {
   "cell_type": "markdown",
   "metadata": {},
   "source": [
    "## Упражнение 2.7"
   ]
  },
  {
   "cell_type": "code",
   "execution_count": null,
   "metadata": {
    "collapsed": false
   },
   "outputs": [],
   "source": [
    "a = np.random.randn(5)\n",
    "b = np.random.randn(5)\n",
    "atb = np.sum(a * b)\n",
    "bta = np.sum(b * a)\n",
    "assert atb == bta\n",
    "\n",
    "print('a:', a)\n",
    "print('b:', b)\n",
    "print('a ∙ b:', atb)\n",
    "print('b ∙ a:', bta)\n",
    "print('a ∙ b - b ∙ a:', atb - bta)\n"
   ]
  }
 ],
 "metadata": {
  "kernelspec": {
   "display_name": "Python 3",
   "language": "python",
   "name": "python3"
  },
  "language_info": {
   "codemirror_mode": {
    "name": "ipython",
    "version": 3
   },
   "file_extension": ".py",
   "mimetype": "text/x-python",
   "name": "python",
   "nbconvert_exporter": "python",
   "pygments_lexer": "ipython3",
   "version": "3.11.5"
  },
  "orig_nbformat": 4
 },
 "nbformat": 4,
 "nbformat_minor": 2
}
