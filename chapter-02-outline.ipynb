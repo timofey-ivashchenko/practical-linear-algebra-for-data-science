{
 "cells": [
  {
   "cell_type": "code",
   "execution_count": null,
   "id": "0e245cef-29e8-4c1e-8349-85443ea9f9ae",
   "metadata": {
    "scrolled": true
   },
   "outputs": [],
   "source": [
    "# Устанавливаем пакеты зависимостей.\n",
    "# !pip install matplotlib\n",
    "# !pip install numpy\n",
    "\n",
    "# Импортируем код зависимостей.\n",
    "import matplotlib.pyplot as plt\n",
    "import matplotlib_inline.backend_inline as bil\n",
    "import numpy as np\n",
    "\n",
    "# Отображаем фигуры в векторном формате SVG.\n",
    "bil.set_matplotlib_formats('svg')\n",
    "# Устанавливаем глобальный размер шрифта.\n",
    "plt.rcParams.update({'font.size': 10})"
   ]
  },
  {
   "cell_type": "markdown",
   "id": "b37ba8a5-a793-423f-a83b-201af0fcdacf",
   "metadata": {},
   "source": [
    "# Глава 2. Векторы. Часть 1\n",
    "\n",
    "## Создание векторов\n",
    "\n",
    "Четыре способа создания вектора:"
   ]
  },
  {
   "cell_type": "code",
   "execution_count": null,
   "id": "72cb8b4e-d180-4a45-a1f5-fe488c8f0c96",
   "metadata": {},
   "outputs": [],
   "source": [
    "# 1: список Python.\n",
    "list_ = [1, 2, 3]\n",
    "# 2: неориентированный массив, одномерный список чисел в NumPy.\n",
    "array = np.array([1, 2, 3])\n",
    "# 3: трёхмерный вектор-строка в виде двумерного массива NumPy 1×3.\n",
    "row_vector = np.array([[1, 2, 3]])\n",
    "# 4: трёхмерный вектор-столбец в виде двумерного массива NumPy 3×1.\n",
    "column_vector = np.array([[1], [2], [3]])\n",
    "\n",
    "# Отображаем размерность векторов.\n",
    "print('np.shape(list_):    ', np.shape(list_))\n",
    "print('array.shape:        ', array.shape)\n",
    "print('row_vector.shape:   ', row_vector.shape)\n",
    "print('column_vector.shape:', column_vector.shape)"
   ]
  },
  {
   "cell_type": "markdown",
   "id": "42971f4b-7707-4bd6-a533-aa2ae313ac70",
   "metadata": {},
   "source": [
    "## Геометрия (визуализация) векторов\n",
    "\n",
    "Вектор **v** в стандартном положении:"
   ]
  },
  {
   "cell_type": "code",
   "execution_count": null,
   "id": "0f1fa455-be6e-4865-bf3e-0c4e42db6649",
   "metadata": {},
   "outputs": [],
   "source": [
    "# Создаём вектор.\n",
    "v = np.array([-1, 2])\n",
    "\n",
    "# Строим график вектора и точку для его хвоста.\n",
    "plt.arrow(0, 0, v[0], v[1], head_width=.5, width=.1)\n",
    "plt.plot(0, 0, 'ko', markerfacecolor='k', markersize=7)\n",
    "\n",
    "# Добавляем осевые линии.\n",
    "plt.plot((-3, 3), (0, 0), '--', color=(.8, .8, .8), zorder=-1)\n",
    "plt.plot((0, 0), (-3, 3), '--', color=(.8, .8, .8), zorder=-1)\n",
    "\n",
    "# Делаем график более привлекательным.\n",
    "plt.axis('square')\n",
    "plt.axis((-3, 3, -3, 3))\n",
    "plt.xlabel('$v_0$')\n",
    "plt.ylabel('$v_1$')\n",
    "plt.title('Вектор $\\\\mathbf{v}$ в стандартном положении')\n",
    "\n",
    "# Отображаем график.\n",
    "plt.show()"
   ]
  },
  {
   "cell_type": "markdown",
   "id": "72b9a4ba-24d0-45d4-9331-800d3ec74c7a",
   "metadata": {},
   "source": [
    "Вектор **v** в различных местоположениях:"
   ]
  },
  {
   "cell_type": "code",
   "execution_count": null,
   "id": "0d2acedb-b39b-43e5-a46b-8ea10276d80a",
   "metadata": {},
   "outputs": [],
   "source": [
    "# Создаём вектор.\n",
    "v = np.array([-1, 2])\n",
    "\n",
    "# Определяем исходные позиции.\n",
    "start_positions = (0, 0), (-1, -1), (1.5, -2)\n",
    "\n",
    "# Создаём новую фигуру.\n",
    "figure = plt.figure(figsize=(6, 6))\n",
    "\n",
    "for s in start_positions:\n",
    "\n",
    "    # Строим график вектора и точку для его хвоста.\n",
    "    # Note that plt.arrow automatically adds an offset to the third/fourth\n",
    "    # inputs.\n",
    "    plt.arrow(s[0], s[1], v[0], v[1], head_width=.5, width=.1, color='black')\n",
    "    plt.plot(s[0], s[1], 'ko', markerfacecolor='k', markersize=7)\n",
    "\n",
    "    # Если вектор находится в стандартном положении, добавляем к нему подпись.\n",
    "    if s == (0, 0):\n",
    "        plt.text(v[0] + .1, v[1] + .2, '\"Стандартное полож.\"')\n",
    "\n",
    "# Добавляем осевые линии.\n",
    "plt.plot((-3, 3), (0, 0), '--', color=(.8, .8, .8), zorder=-1)\n",
    "plt.plot((0, 0), (-3, 3), '--', color=(.8, .8, .8), zorder=-1)\n",
    "\n",
    "# Делаем график более привлекательным.\n",
    "plt.axis('square')\n",
    "plt.axis((-3, 3, -3, 3))\n",
    "plt.xlabel('$v_0$')\n",
    "plt.ylabel('$v_1$')\n",
    "plt.title('Вектор $\\\\mathbf{v}$ в различных местоположениях')\n",
    "\n",
    "# Сохраняем график в файле.\n",
    "# plt.savefig('figure_02_01.png', dpi=300)\n",
    "\n",
    "# Отображаем график.\n",
    "plt.show()"
   ]
  },
  {
   "cell_type": "markdown",
   "id": "0661c30b-f1ef-41f7-af6d-c4297463acdb",
   "metadata": {},
   "source": [
    "## Операции на векторах"
   ]
  },
  {
   "cell_type": "markdown",
   "id": "dc543862-fc41-427b-9579-ed6b3c96189a",
   "metadata": {},
   "source": [
    "### Сложение двух векторов"
   ]
  },
  {
   "cell_type": "markdown",
   "id": "6761a61d-060f-4589-8e8c-de25d880ddd3",
   "metadata": {},
   "source": [
    "$\\displaystyle \\begin{bmatrix}a\\\\b\\\\c\\end{bmatrix} + \\begin{bmatrix}d\\\\e\\\\f\\end{bmatrix} = \\begin{bmatrix}a + d\\\\b + e\\\\c + f\\end{bmatrix}$"
   ]
  },
  {
   "cell_type": "code",
   "execution_count": null,
   "id": "5e54b102-fd8c-4b2b-a418-500f146545f1",
   "metadata": {},
   "outputs": [],
   "source": [
    "v = np.array([[4, 5, 6]]).T\n",
    "w = np.array([[10, 20, 30]]).T\n",
    "\n",
    "print('v:')\n",
    "print(v)\n",
    "print('w:')\n",
    "print(w)\n",
    "print('v + w:')\n",
    "print(v + w)"
   ]
  },
  {
   "cell_type": "markdown",
   "id": "1a5f25ef-c3a3-473c-bf52-035093b6a1b1",
   "metadata": {},
   "source": [
    "### Вычитание двух векторов"
   ]
  },
  {
   "cell_type": "markdown",
   "id": "5c4c2d32-e404-42b2-aee6-aae5238f518f",
   "metadata": {},
   "source": [
    "$\\displaystyle \\begin{bmatrix}a\\\\b\\\\c\\end{bmatrix} - \\begin{bmatrix}d\\\\e\\\\f\\end{bmatrix} = \\begin{bmatrix}a - d\\\\b - e\\\\c - f\\end{bmatrix}$"
   ]
  },
  {
   "cell_type": "code",
   "execution_count": null,
   "id": "9947c8af-452d-481d-a898-74a46911c1d6",
   "metadata": {},
   "outputs": [],
   "source": [
    "v = np.array([[4, 5, 6]]).T\n",
    "w = np.array([[10, 20, 30]]).T\n",
    "\n",
    "print('v:')\n",
    "print(v)\n",
    "print('w:')\n",
    "print(w)\n",
    "print('v - w:')\n",
    "print(v - w)"
   ]
  },
  {
   "cell_type": "markdown",
   "id": "05e05ee4-c0ff-4de1-8418-587469780705",
   "metadata": {},
   "source": [
    "### Умножение вектора на скаляр"
   ]
  },
  {
   "cell_type": "markdown",
   "id": "2815628f-dfaf-4845-8211-5d0a07d079cd",
   "metadata": {},
   "source": [
    "$\\displaystyle \\begin{bmatrix}a\\\\b\\\\c\\end{bmatrix}\\lambda = \\begin{bmatrix}a\\lambda\\\\b\\lambda\\\\c\\lambda\\end{bmatrix}$"
   ]
  },
  {
   "cell_type": "code",
   "execution_count": null,
   "id": "c0aada62-46da-497a-924a-7fa4716a2915",
   "metadata": {},
   "outputs": [],
   "source": [
    "s = 2\n",
    "a = [3, 4, 5]    # В виде списка Python.\n",
    "b = np.array(a)  # В виде массива NumPy.\n",
    "\n",
    "print('a * s:', a * s)\n",
    "print('b * s:', b * s)"
   ]
  },
  {
   "cell_type": "markdown",
   "id": "7671b661-bcb5-4711-bcc0-7dc7715e958d",
   "metadata": {},
   "source": [
    "### Сложение скаляра с вектором"
   ]
  },
  {
   "cell_type": "code",
   "execution_count": null,
   "id": "2dc34965-717f-4f2b-a2ae-fa34b89bf9c1",
   "metadata": {},
   "outputs": [],
   "source": [
    "s = 2\n",
    "v = np.array([3, 6])\n",
    "\n",
    "print('s:    ', s)\n",
    "print('v:    ', v)\n",
    "print('s + v:', s + v)"
   ]
  },
  {
   "cell_type": "markdown",
   "id": "67d16585-093a-4a4b-baee-b1a6bb915360",
   "metadata": {},
   "source": [
    "### Геометрия умножения вектора на скаляр"
   ]
  },
  {
   "cell_type": "code",
   "execution_count": null,
   "id": "558b80c6-1396-4186-a867-f8de97b91bd1",
   "metadata": {},
   "outputs": [],
   "source": [
    "scalars = 1, 2, 1 / 3, 0, -2 / 3  # Скаляры.\n",
    "base_vector = np.array([.75, 1])  # Базовый вектор.\n",
    "\n",
    "# Создаём рисунок, состоящий из нескольких графиков.\n",
    "_, axes = plt.subplots(1, len(scalars), figsize=(12, 3))\n",
    "\n",
    "i = 0  # Счётчик графиков.\n",
    "\n",
    "for s in scalars:\n",
    "    # Вычисляем масштабированный вектор.\n",
    "    v = s * base_vector\n",
    "\n",
    "    # Строим его график.\n",
    "    axes[i].arrow(0, 0, base_vector[0], base_vector[1], head_width=.3,\n",
    "                  width=.1, color='k', length_includes_head=True)\n",
    "    axes[i].arrow(.1, 0, v[0], v[1], head_width=.3, width=.1,\n",
    "                  color=(.75, .75, .75), length_includes_head=True)\n",
    "    axes[i].grid(linestyle='--')\n",
    "    axes[i].axis('square')\n",
    "    axes[i].axis((-2.5, 2.5, -2.5, 2.5))\n",
    "    axes[i].set(xticks=np.arange(-2, 3), yticks=np.arange(-2, 3))\n",
    "    axes[i].set_title(f'$\\\\sigma$ = {s:.2f}')\n",
    "\n",
    "    i += 1  # Обновляем счётчик.\n",
    "\n",
    "# Добавляем отступы между графиками.\n",
    "plt.tight_layout()\n",
    "\n",
    "# Сохраняем рисунок в файл.\n",
    "# plt.savefig('figure_02_03.png', dpi=300)\n",
    "\n",
    "# Отображаем рисунок.\n",
    "plt.show()"
   ]
  },
  {
   "cell_type": "markdown",
   "id": "79e85a90-1cca-43fc-a846-0303134cb113",
   "metadata": {},
   "source": [
    "### Транспонирование"
   ]
  },
  {
   "cell_type": "markdown",
   "id": "9480a624-5ae1-484f-967f-23e7d81fc60d",
   "metadata": {},
   "source": [
    "Операция транспонирования:\n",
    "\n",
    "$\\displaystyle \\textbf{m}^T_{i,j} = \\textbf{m}_{j,i}$\n",
    "\n",
    "Двойное транспонирование возвращает вектор в изначальную ориентацию:\n",
    "\n",
    "$\\displaystyle \\textbf{v}^{TT} = \\textbf{v}$"
   ]
  },
  {
   "cell_type": "code",
   "execution_count": null,
   "id": "b026e686-3c3e-4588-83f8-47ddb36b869e",
   "metadata": {},
   "outputs": [],
   "source": [
    "v = np.array([[1, 2, 3], [4, 5, 6], [7, 8, 9]])\n",
    "w = v.T\n",
    "\n",
    "print('v:')\n",
    "print(v)\n",
    "print('w:')\n",
    "print(w)"
   ]
  },
  {
   "cell_type": "markdown",
   "id": "41d00012-aaa5-470a-89b6-77b1211e2a3a",
   "metadata": {},
   "source": [
    "### Транслирование\n",
    "\n",
    "Транслирование – это общая операция программирования, которая используется для расширения векторов в арифметических операциях."
   ]
  },
  {
   "cell_type": "code",
   "execution_count": null,
   "id": "7f8d7d06-0e20-4962-8f2d-85d8ce0e020a",
   "metadata": {},
   "outputs": [],
   "source": [
    "# Трёхмерный вектор-строка.\n",
    "v = np.array([[4, 5, 6]])\n",
    "\n",
    "# Трёхмерный вектор-столбец, полученный с помощью\n",
    "# транспонирования трёхмерного вектора-строки.\n",
    "w = np.array([[10, 20, 30]]).T\n",
    "\n",
    "print('v:')\n",
    "print(v)\n",
    "print('w:')\n",
    "print(w)\n",
    "print('v + w:')\n",
    "print(v + w)"
   ]
  },
  {
   "cell_type": "markdown",
   "id": "2993cbd8-924f-425b-b05a-d06f139637cc",
   "metadata": {},
   "source": [
    "#### Сложение при помощи транслирования\n",
    "\n",
    "[1 1] + [10 20];  \n",
    "[2 2] + [10 20];  \n",
    "[3 3] + [10 20]."
   ]
  },
  {
   "cell_type": "code",
   "execution_count": null,
   "id": "098c9b0b-968e-4a3b-9b6e-1f4d6c3a7dcb",
   "metadata": {},
   "outputs": [],
   "source": [
    "v = np.array([[1, 2, 3]]).T\n",
    "w = np.array([[10, 20]])\n",
    "\n",
    "print('v:')\n",
    "print(v)\n",
    "print('w:')\n",
    "print(w)\n",
    "print('v + w:')\n",
    "print(v + w)\n",
    "print()\n",
    "print('v.T:')\n",
    "print(v.T)\n",
    "print('w.T:')\n",
    "print(w.T)\n",
    "print('v.T + w.T:')\n",
    "print(v.T + w.T)"
   ]
  },
  {
   "cell_type": "markdown",
   "id": "201c882d-6155-4704-9c8b-b4d716f5d439",
   "metadata": {},
   "source": [
    "Для транслирования необходимо, чтобы слагаемые векторы были разноориентированы, при этом не требуется, чтобы их размерности были равны."
   ]
  },
  {
   "cell_type": "code",
   "execution_count": null,
   "id": "9751ac56-cbf1-4a3e-b3af-1497482377fa",
   "metadata": {},
   "outputs": [],
   "source": [
    "# Векторы a и b имеют различные размерность и ориентацию.\n",
    "a = np.array([[0, 1, 2, 3]])\n",
    "b = np.array([[4, 5, 6, 7, 8, 9]]).T\n",
    "\n",
    "print('a:')\n",
    "print(a)\n",
    "print('b:')\n",
    "print(b)\n",
    "print('a + b:')\n",
    "print(a + b)"
   ]
  },
  {
   "cell_type": "markdown",
   "id": "36ff3538-8261-4655-a6a8-158f2c4a8d74",
   "metadata": {},
   "source": [
    "## Модуль вектора и единичные векторы"
   ]
  },
  {
   "cell_type": "markdown",
   "id": "c4627ebb-068b-4f55-a88c-a122a303dc17",
   "metadata": {},
   "source": [
    "Норма вектора:\n",
    "\n",
    "$ \\displaystyle \\|\\textbf{v}\\| = \\sqrt{\\sum_{i=1}^n{\\nu_i^2}} $"
   ]
  },
  {
   "cell_type": "code",
   "execution_count": null,
   "id": "a263b40c-11d0-4fdd-a49b-9b7bc91140c3",
   "metadata": {},
   "outputs": [],
   "source": [
    "v = np.array([1, 2, 3, 7, 8, 9])\n",
    "\n",
    "# Математическая размерность, количество чисел в векторе (dimensionality).\n",
    "v_dim = len(v)\n",
    "\n",
    "# Модуль, абсолютная величина, геометрическая длина, норма (magnitude).\n",
    "v_mag = np.linalg.norm(v)\n",
    "\n",
    "print('v:    ', v)\n",
    "print('v_dim:', v_dim)\n",
    "print('v_mag:', v_mag)"
   ]
  },
  {
   "cell_type": "markdown",
   "id": "94037f66-c696-4a70-98da-128aff05aa1d",
   "metadata": {},
   "source": [
    "Создание единичного вектора:\n",
    "\n",
    "$ \\displaystyle \\hat{\\textbf{v}} = \\frac{1}{\\|\\textbf{v}\\|}\\textbf{v} $"
   ]
  },
  {
   "cell_type": "code",
   "execution_count": null,
   "id": "3fb04ffd-4c96-4dd1-a75d-df3b5c5ddcc0",
   "metadata": {},
   "outputs": [],
   "source": [
    "v = np.array([[1, 2, 3, 7, 8, 9]]).T\n",
    "v_mag = np.linalg.norm(v)\n",
    "v_1 = v / v_mag\n",
    "v_1_mag = np.linalg.norm(v_1)\n",
    "\n",
    "print('v:')\n",
    "print(v)\n",
    "print('v_mag:')\n",
    "print(v_mag)\n",
    "print('v_1:')\n",
    "print(v_1)\n",
    "print('v_1_mag:')\n",
    "print(v_1_mag)"
   ]
  },
  {
   "cell_type": "markdown",
   "id": "6f9cdae3-1848-4340-9950-bb5dc0527872",
   "metadata": {},
   "source": [
    "## Точечное (внутреннее) произведение векторов\n",
    "\n",
    "Способы указания точечного произведения между двумя векторами:\n",
    "\n",
    "$\\displaystyle \\textbf{a}^T\\textbf{b}$ или\n",
    "$\\displaystyle \\textbf{a}\\cdot\\textbf{b}$ или\n",
    "$\\displaystyle \\langle\\textbf{a}, \\textbf{b}\\rangle$\n",
    "\n",
    "Формула точечного произведения:\n",
    "\n",
    "$\\displaystyle \\delta = \\sum_{i=1}^n{\\textbf{a}_i\\textbf{b}_i}$\n",
    "\n",
    "Пример вычисления точечного произведения:\n",
    "\n",
    "$\\displaystyle \\begin{bmatrix}a\\\\b\\\\c\\end{bmatrix} \\cdot \\begin{bmatrix}d\\\\e\\\\f\\end{bmatrix} = ad + be + cf$"
   ]
  },
  {
   "cell_type": "code",
   "execution_count": null,
   "id": "96463eea-8f29-4e61-a947-ab8b2d8a30ae",
   "metadata": {},
   "outputs": [],
   "source": [
    "a = np.array([1, 2, 3, 4])\n",
    "b = np.array([5, 6, 7, 8])\n",
    "print('a · b:', np.dot(a, b))"
   ]
  },
  {
   "cell_type": "markdown",
   "id": "e6ff4949-c0e4-4f5e-8ee9-e4b44a58f0eb",
   "metadata": {},
   "source": [
    "Умножение одного вектора на скаляр масштабирует точечное произведение на то же число:"
   ]
  },
  {
   "cell_type": "code",
   "execution_count": null,
   "id": "94b00439-222d-46e7-abd5-73b0a1fbd71e",
   "metadata": {},
   "outputs": [],
   "source": [
    "v = np.array([1, 2, 3])\n",
    "w = np.array([4, 5, 6])\n",
    "s = 10\n",
    "\n",
    "print('v:          ', v)\n",
    "print('w:          ', w)\n",
    "print('s:          ', s)\n",
    "print('v · w:      ', np.dot(v, w))\n",
    "print('(s * v) · w:', np.dot(s * v, w))"
   ]
  },
  {
   "cell_type": "markdown",
   "id": "7d270d6d-28e8-4d03-9e09-4aa2b5322637",
   "metadata": {},
   "source": [
    "### Точечное произведение является дистрибутивным\n",
    "\n",
    "Дистрибутивное свойство математики (распределительный закон):\n",
    "\n",
    "$ \\displaystyle a(b + c) = ab + ac $\n",
    "\n",
    "В переложении на векторы и точечное произведение векторов:\n",
    "\n",
    "$ \\displaystyle \\textbf{a}^T(\\textbf{b} + \\textbf{c}) = \\textbf{a}^T\\textbf{b} + \\textbf{a}^T\\textbf{c} $"
   ]
  },
  {
   "cell_type": "code",
   "execution_count": null,
   "id": "54daa867-7731-4678-8273-6d956738fb8b",
   "metadata": {},
   "outputs": [],
   "source": [
    "a = np.array([0, 1, 2])\n",
    "b = np.array([3, 5, 8])\n",
    "c = np.array([13, 21, 34])\n",
    "\n",
    "# Точечное произведение дистрибутивно.\n",
    "print('a · (b + c):  ', np.dot(a, b + c))\n",
    "print('a · b + a · c:', np.dot(a, b) + np.dot(a, c))"
   ]
  },
  {
   "cell_type": "markdown",
   "id": "67ed2c75-1f90-423f-8feb-00e8136ed246",
   "metadata": {},
   "source": [
    "### Геометрия точечного произведения\n",
    "\n",
    "Геометрическое определение точечного произведения векторов:\n",
    "\n",
    "$ \\displaystyle \\alpha = \\cos(\\theta_{\\textbf{v},\\textbf{w}})\\|\\textbf{v}\\|\\|\\textbf{w}\\| $"
   ]
  },
  {
   "cell_type": "markdown",
   "id": "640643ea-f027-4542-8718-b0482ecebaf6",
   "metadata": {},
   "source": [
    "## Другие умножения векторов\n",
    "\n",
    "### Адамарово умножение\n",
    "\n",
    "$ \\displaystyle \\begin{bmatrix}a\\\\b\\\\c\\end{bmatrix} \\odot \\begin{bmatrix}d\\\\e\\\\f\\end{bmatrix} = \\begin{bmatrix}ad\\\\be\\\\cf\\end{bmatrix} $"
   ]
  },
  {
   "cell_type": "code",
   "execution_count": null,
   "id": "03b286b5-75cf-44f3-8149-a2d367a9384e",
   "metadata": {},
   "outputs": [],
   "source": [
    "a = np.array([1, 2, 3, 4, 5])\n",
    "b = np.array([6, 7, 8, 9, 10])\n",
    "\n",
    "print('a:    ', a)\n",
    "print('b:    ', b)\n",
    "print('a * b:', a * b)"
   ]
  },
  {
   "cell_type": "markdown",
   "id": "a7cc4c25-018d-4fba-bd8b-15cba707e404",
   "metadata": {},
   "source": [
    "### Внешнее произведение\n",
    "\n",
    "Внешнее произведение обозначается как $\\textbf{v}\\textbf{w}^\\mathrm{T}$.\n",
    "\n",
    "Формула внешнего произведения:\n",
    "\n",
    "$\\begin{bmatrix}a\\\\b\\\\c\\end{bmatrix}\\begin{bmatrix}d&e\\end{bmatrix}=\\begin{bmatrix}ad&ae\\\\bd&be\\\\cd&ce\\end{bmatrix}$\n",
    "\n",
    "Вычисление внешнего произведения с помощью функции `np.outer`:"
   ]
  },
  {
   "cell_type": "code",
   "execution_count": null,
   "id": "5673a928-638b-495a-8dec-3a3dde4267dd",
   "metadata": {},
   "outputs": [],
   "source": [
    "a = np.array([1, 2, 3])\n",
    "b = np.array([4, 5])\n",
    "\n",
    "print('a:')\n",
    "print(a)\n",
    "print('b:')\n",
    "print(b)\n",
    "print('np.outer(a, b):')\n",
    "print(np.outer(a, b))"
   ]
  },
  {
   "cell_type": "markdown",
   "id": "0a13e4fc-3904-495c-8475-d2e499bbc5ff",
   "metadata": {},
   "source": [
    "Вычисление внешнего произведения с помощью функции `np.dot`, при условии что два входных вектора ориентированы соответственно вдоль столбца и строки:"
   ]
  },
  {
   "cell_type": "code",
   "execution_count": null,
   "id": "e0800948-c9f8-4322-8f22-2514e6eb042b",
   "metadata": {},
   "outputs": [],
   "source": [
    "a = np.array([[1, 2, 3]]).T\n",
    "b = np.array([[4, 5]])\n",
    "\n",
    "print('a:')\n",
    "print(a)\n",
    "print('b:')\n",
    "print(b)\n",
    "print('np.dot(a, b):')\n",
    "print(np.dot(a, b))"
   ]
  },
  {
   "cell_type": "markdown",
   "id": "2367983e-bf21-49e2-af96-98128f123731",
   "metadata": {},
   "source": [
    "### Перекрёстное и тройное произведения\n",
    "\n",
    "Эти методы используются в геометрии и физике."
   ]
  }
 ],
 "metadata": {
  "kernelspec": {
   "display_name": "Python 3 (ipykernel)",
   "language": "python",
   "name": "python3"
  },
  "language_info": {
   "codemirror_mode": {
    "name": "ipython",
    "version": 3
   },
   "file_extension": ".py",
   "mimetype": "text/x-python",
   "name": "python",
   "nbconvert_exporter": "python",
   "pygments_lexer": "ipython3",
   "version": "3.11.5"
  }
 },
 "nbformat": 4,
 "nbformat_minor": 5
}
