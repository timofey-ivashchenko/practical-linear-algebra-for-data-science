{
 "cells": [
  {
   "cell_type": "markdown",
   "id": "b37ba8a5-a793-423f-a83b-201af0fcdacf",
   "metadata": {},
   "source": [
    "# Глава 2. Векторы. Часть 1"
   ]
  },
  {
   "cell_type": "code",
   "execution_count": null,
   "id": "0e245cef-29e8-4c1e-8349-85443ea9f9ae",
   "metadata": {},
   "outputs": [],
   "source": [
    "!pip install numpy\n",
    "import numpy as np"
   ]
  },
  {
   "cell_type": "markdown",
   "id": "4fe509b6-a960-4ef3-afab-c0dc05574c30",
   "metadata": {},
   "source": [
    "## Создание и визуализация векторов в NumPy"
   ]
  },
  {
   "cell_type": "markdown",
   "id": "55d157e2-1816-40ef-938d-ba2dec07bae4",
   "metadata": {},
   "source": [
    "### Четыре способа создания вектора"
   ]
  },
  {
   "cell_type": "code",
   "execution_count": null,
   "id": "72cb8b4e-d180-4a45-a1f5-fe488c8f0c96",
   "metadata": {},
   "outputs": [],
   "source": [
    "# Список Python.\n",
    "list_ = [1, 2, 3]\n",
    "# Безразмерный массив NumPy.\n",
    "array = np.array([1, 2, 3])\n",
    "# Трёхмерный вектор-строка: двумерный массив NumPy 1×3.\n",
    "row_vector = np.array([[1, 2, 3]])\n",
    "# Трёхмерный вектор-столбец: двумерный массив NumPy 3×1.\n",
    "column_vector = np.array([[1], [2], [3]])\n",
    "\n",
    "# Проверяем очертания переменных.\n",
    "print('np.shape(list_):    ', np.shape(list_))\n",
    "print('array.shape:        ', array.shape)\n",
    "print('row_vector.shape:   ', row_vector.shape)\n",
    "print('column_vector.shape:', column_vector.shape)"
   ]
  },
  {
   "cell_type": "markdown",
   "id": "0661c30b-f1ef-41f7-af6d-c4297463acdb",
   "metadata": {},
   "source": [
    "## Операции на векторах"
   ]
  },
  {
   "cell_type": "markdown",
   "id": "41d00012-aaa5-470a-89b6-77b1211e2a3a",
   "metadata": {},
   "source": [
    "### Транслирование"
   ]
  },
  {
   "cell_type": "code",
   "execution_count": null,
   "id": "7f8d7d06-0e20-4962-8f2d-85d8ce0e020a",
   "metadata": {},
   "outputs": [],
   "source": [
    "# Трёхмерный вектор-строка.\n",
    "v = np.array([[4, 5, 6]])\n",
    "# Трёхмерный вектор-столбец, полученный с помощью\n",
    "# транспонирования трёхмерного вектора-строки.\n",
    "w = np.array([[10, 20, 30]]).T\n",
    "# Печатаем векторы и результат транслирования.\n",
    "print('v:')\n",
    "print(v)\n",
    "print('w:')\n",
    "print(w)\n",
    "print('v + w:')\n",
    "print(v + w)"
   ]
  }
 ],
 "metadata": {
  "kernelspec": {
   "display_name": "Python 3 (ipykernel)",
   "language": "python",
   "name": "python3"
  },
  "language_info": {
   "codemirror_mode": {
    "name": "ipython",
    "version": 3
   },
   "file_extension": ".py",
   "mimetype": "text/x-python",
   "name": "python",
   "nbconvert_exporter": "python",
   "pygments_lexer": "ipython3",
   "version": "3.11.4"
  }
 },
 "nbformat": 4,
 "nbformat_minor": 5
}
