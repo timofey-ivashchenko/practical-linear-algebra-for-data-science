{
 "cells": [
  {
   "cell_type": "code",
   "execution_count": null,
   "metadata": {},
   "outputs": [],
   "source": [
    "import numpy as np"
   ]
  },
  {
   "cell_type": "markdown",
   "metadata": {},
   "source": [
    "# Глава 3. Векторы. Часть 2\n",
    "\n",
    "## Множества векторов\n",
    "\n",
    "Коллекция векторов называется *множеством*. Векторные множества обозначаются курсивом и заглавными латинскими буквами: $V$. Математические множества описываются следующим образом:\n",
    "\n",
    "$V=\\lbrace\\mathbf{v}_1,\\dots,\\mathbf{v}_n\\rbrace$\n",
    "\n",
    "Множество векторов может содержать конечное или бесконечное число векторов. Множества векторов также могут быть пустыми и обозначаются как $V=\\lbrace\\rbrace$.\n",
    "\n",
    "## Линейно-взвешенная комбинация\n",
    "\n",
    "*Линейно-взвешенная комбинация (linear weighted combination)* – это способ смешивания информации из нескольких переменных, при этом некоторые переменные вносят больший вклад, чем другие. Указанную фундаментальную операцию также иногда называют *линейной смесью (linear mixture)* или *взвешенной комбинацией (weighted combination)* (часть со словом *линейная* подразумевается). Иногда вместо слова *вес* используется термин *«коэффициент»*.\n",
    "\n",
    "Формула:\n",
    "\n",
    "$\\mathbf{w}=\\lambda_1\\mathbf{v}_1+\\lambda_2\\mathbf{v}_2+\\dots+\\lambda_n\\mathbf{v}_n$\n",
    "\n",
    "Все векторы $\\mathbf{v}_i$ должны иметь одинаковую размерность; в противном случае сложение недопустимо. Скаляры $\\lambda$ могут быть любым действительно-значным числом, включая ноль.\n",
    "\n",
    "Пример:"
   ]
  },
  {
   "cell_type": "code",
   "execution_count": null,
   "metadata": {},
   "outputs": [],
   "source": [
    "l1, l2, l3 = 1, 2, -3\n",
    "v1 = np.array([4, 5, 1])\n",
    "v2 = np.array([-4, 0, -4])\n",
    "v3 = np.array([1, 3, 2])\n",
    "w = l1 * v1 + l2 * v2 + l3 * v3\n",
    "\n",
    "print(\"l1:\", l1)\n",
    "print(\"l2:\", l2)\n",
    "print(\"l3:\", l3)\n",
    "print(\"v1:\", v1)\n",
    "print(\"v2:\", v2)\n",
    "print(\"v3:\", v3)\n",
    "print(\"w: \", w)"
   ]
  }
 ],
 "metadata": {
  "kernelspec": {
   "display_name": "Python 3",
   "language": "python",
   "name": "python3"
  },
  "language_info": {
   "codemirror_mode": {
    "name": "ipython",
    "version": 3
   },
   "file_extension": ".py",
   "mimetype": "text/x-python",
   "name": "python",
   "nbconvert_exporter": "python",
   "pygments_lexer": "ipython3",
   "version": "3.12.0"
  }
 },
 "nbformat": 4,
 "nbformat_minor": 2
}
