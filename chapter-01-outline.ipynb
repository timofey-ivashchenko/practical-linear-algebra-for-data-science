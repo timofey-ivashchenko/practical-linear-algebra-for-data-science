{
 "cells": [
  {
   "cell_type": "markdown",
   "id": "6f7b205b-9712-4724-862f-f92ccbabb297",
   "metadata": {},
   "source": [
    "# Глава 1: Введение"
   ]
  },
  {
   "cell_type": "markdown",
   "id": "65b74d44-d115-4d7f-8875-94a6e5171fbb",
   "metadata": {},
   "source": [
    "«Мягкое доказательство» принципа коммутативности умножения $a\\times{b}=b\\times{a}$:"
   ]
  },
  {
   "cell_type": "code",
   "execution_count": null,
   "id": "84c56909-15be-4053-b6af-0ccdf0355650",
   "metadata": {},
   "outputs": [],
   "source": [
    "import numpy as np\n",
    "\n",
    "a = np.random.randn()\n",
    "b = np.random.randn()\n",
    "\n",
    "print(a * b - b * a)\n"
   ]
  }
 ],
 "metadata": {
  "kernelspec": {
   "display_name": "Python 3 (ipykernel)",
   "language": "python",
   "name": "python3"
  },
  "language_info": {
   "codemirror_mode": {
    "name": "ipython",
    "version": 3
   },
   "file_extension": ".py",
   "mimetype": "text/x-python",
   "name": "python",
   "nbconvert_exporter": "python",
   "pygments_lexer": "ipython3",
   "version": "3.11.5"
  }
 },
 "nbformat": 4,
 "nbformat_minor": 5
}
